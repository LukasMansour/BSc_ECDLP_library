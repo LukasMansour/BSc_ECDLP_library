{
 "cells": [
  {
   "metadata": {},
   "cell_type": "code",
   "source": [
    "from api.CircuitChooser import CircuitChooser\n",
    "from api.Metrics import (gate_count_metric, gate_depth_metric, cz_count_metric,\n",
    "                         cz_depth_metric)  # , t_count_metric, t_depth_metric)\n",
    "from resource_estimation.automatic_optimisation import auto_opt # , auto_opt_solovay_kitaev"
   ],
   "id": "9daa1043a170c4d2",
   "outputs": [],
   "execution_count": null
  },
  {
   "metadata": {},
   "cell_type": "code",
   "source": [
    "CircuitChooser().clear_caches()\n",
    "CircuitChooser()._metric = gate_count_metric\n",
    "n = 3  # n-bit elliptic curve\n",
    "circuit = CircuitChooser().choose_component(\n",
    "    \"QCECPointAdderIP\",\n",
    "    (n, (4, 5), 7, 0, True),\n",
    "    clean_available=(2 * n + 2)\n",
    ").get_circuit()\n",
    "\n",
    "circuit_opt = auto_opt(circuit)\n",
    "print(circuit_opt.count_ops())\n",
    "print(circuit_opt.depth())"
   ],
   "id": "6136208364e7990e",
   "outputs": [],
   "execution_count": null
  },
  {
   "metadata": {},
   "cell_type": "code",
   "source": "circuit.draw(output='mpl', fold=-1)",
   "id": "f9baa2e90aa19952",
   "outputs": [],
   "execution_count": null
  },
  {
   "metadata": {},
   "cell_type": "code",
   "source": [
    "CircuitChooser().clear_caches()\n",
    "CircuitChooser()._metric = gate_depth_metric\n",
    "n = 3  # n-bit elliptic curve\n",
    "circuit = CircuitChooser().choose_component(\n",
    "    \"QCECPointAdderIP\",\n",
    "    (n, (4, 5), 7, 0, True), # with_modular_inversion=False\n",
    "    clean_available=(2 * n + 2)\n",
    ").get_circuit()\n",
    "\n",
    "circuit_opt = auto_opt(circuit)\n",
    "print(circuit_opt.count_ops())\n",
    "print(circuit_opt.depth())"
   ],
   "id": "f94f8047c49e7f0b",
   "outputs": [],
   "execution_count": null
  },
  {
   "metadata": {},
   "cell_type": "code",
   "source": [
    "CircuitChooser().clear_caches()\n",
    "CircuitChooser()._metric = cz_count_metric\n",
    "n = 3  # n-bit elliptic curve\n",
    "circuit = CircuitChooser().choose_component(\n",
    "    \"QCECPointAdderIP\",\n",
    "    (n, (4, 5), 7, 0, True), # with_modular_inversion=False\n",
    "    clean_available=(2 * n + 2)\n",
    ").get_circuit()\n",
    "\n",
    "circuit_opt = auto_opt(circuit)\n",
    "print(circuit_opt.count_ops())\n",
    "print(circuit_opt.depth())"
   ],
   "id": "b2b94dde33861c66",
   "outputs": [],
   "execution_count": null
  },
  {
   "metadata": {},
   "cell_type": "code",
   "source": [
    "CircuitChooser().clear_caches()\n",
    "CircuitChooser()._metric = cz_depth_metric\n",
    "n = 3  # n-bit elliptic curve\n",
    "circuit = CircuitChooser().choose_component(\n",
    "    \"QCECPointAdderIP\",\n",
    "    (n, (4, 5), 7, 0, True), # with_modular_inversion=False\n",
    "    clean_available=(2 * n + 2)\n",
    ").get_circuit()\n",
    "\n",
    "circuit_opt = auto_opt(circuit)\n",
    "print(circuit_opt.count_ops())\n",
    "print(circuit_opt.depth())"
   ],
   "id": "372d2eeed0a1e8f7",
   "outputs": [],
   "execution_count": null
  },
  {
   "metadata": {},
   "cell_type": "code",
   "source": [
    "# But unfortuantely we cannot use T-count or T-depth due to performance :(\n",
    "\n",
    "\n",
    "# CircuitChooser().clear_caches()\n",
    "# CircuitChooser()._metric = t_count_metric\n",
    "# n = 3  # n-bit elliptic curve\n",
    "# circuit = CircuitChooser().choose_component(\n",
    "#     \"QCECPointAdderIP\",\n",
    "#     (n, (4, 5), 7, 0),\n",
    "#     clean_available=(2 * n + 8)\n",
    "# ).get_circuit()\n",
    "#\n",
    "# circuit = auto_opt_solovay_kitaev(circuit)\n",
    "# print(circuit.count_ops())\n",
    "# print(circuit.depth())"
   ],
   "id": "c39d47e1a50bfec5",
   "outputs": [],
   "execution_count": null
  },
  {
   "metadata": {},
   "cell_type": "code",
   "source": [
    "# But unfortuantely we cannot use T-count or T-depth due to performance :(\n",
    "\n",
    "\n",
    "# CircuitChooser().clear_caches()\n",
    "# CircuitChooser()._metric = t_depth_metric\n",
    "# n = 3  # n-bit elliptic curve\n",
    "# circuit = CircuitChooser().choose_component(\n",
    "#     \"QCECPointAdderIP\",\n",
    "#     (n, (4, 5), 7, 0),\n",
    "#     clean_available=(2 * n + 8)\n",
    "# ).get_circuit(with_modular_inversion=False)\n",
    "#\n",
    "# circuit = auto_opt_solovay_kitaev(circuit)\n",
    "# print(circuit.count_ops())\n",
    "# print(circuit.depth())"
   ],
   "id": "8f35d0b96407959a",
   "outputs": [],
   "execution_count": null
  },
  {
   "metadata": {},
   "cell_type": "code",
   "source": "",
   "id": "260e431a6eafc2f",
   "outputs": [],
   "execution_count": null
  }
 ],
 "metadata": {
  "kernelspec": {
   "display_name": "Python 3",
   "language": "python",
   "name": "python3"
  },
  "language_info": {
   "codemirror_mode": {
    "name": "ipython",
    "version": 2
   },
   "file_extension": ".py",
   "mimetype": "text/x-python",
   "name": "python",
   "nbconvert_exporter": "python",
   "pygments_lexer": "ipython2",
   "version": "2.7.6"
  }
 },
 "nbformat": 4,
 "nbformat_minor": 5
}
